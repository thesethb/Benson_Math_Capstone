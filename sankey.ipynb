{
 "cells": [
  {
   "cell_type": "code",
   "execution_count": 4,
   "metadata": {},
   "outputs": [],
   "source": [
    "import plotly.graph_objects as go\n",
    "import pandas as pd"
   ]
  },
  {
   "cell_type": "code",
   "execution_count": 61,
   "metadata": {},
   "outputs": [
    {
     "name": "stdout",
     "output_type": "stream",
     "text": [
      "Index(['Unnamed: 0', 'Program', 'Cluster_0', 'Cluster_1', 'Cluster_2',\n",
      "       'Cluster_3', 'Cluster_4', 'Cluster_5', 'Cluster_6', 'Cluster_7',\n",
      "       'Cluster_8', 'Cluster_9', 'Cluster_10', 'Cluster_11'],\n",
      "      dtype='object')\n"
     ]
    },
    {
     "data": {
      "text/html": [
       "<div>\n",
       "<style scoped>\n",
       "    .dataframe tbody tr th:only-of-type {\n",
       "        vertical-align: middle;\n",
       "    }\n",
       "\n",
       "    .dataframe tbody tr th {\n",
       "        vertical-align: top;\n",
       "    }\n",
       "\n",
       "    .dataframe thead th {\n",
       "        text-align: right;\n",
       "    }\n",
       "</style>\n",
       "<table border=\"1\" class=\"dataframe\">\n",
       "  <thead>\n",
       "    <tr style=\"text-align: right;\">\n",
       "      <th></th>\n",
       "      <th>Unnamed: 0</th>\n",
       "      <th>Program</th>\n",
       "      <th>Cluster_0</th>\n",
       "      <th>Cluster_1</th>\n",
       "      <th>Cluster_2</th>\n",
       "      <th>Cluster_3</th>\n",
       "      <th>Cluster_4</th>\n",
       "      <th>Cluster_5</th>\n",
       "      <th>Cluster_6</th>\n",
       "      <th>Cluster_7</th>\n",
       "      <th>Cluster_8</th>\n",
       "      <th>Cluster_9</th>\n",
       "      <th>Cluster_10</th>\n",
       "      <th>Network</th>\n",
       "    </tr>\n",
       "  </thead>\n",
       "  <tbody>\n",
       "    <tr>\n",
       "      <th>0</th>\n",
       "      <td>0</td>\n",
       "      <td>CNN ANDERSON COOPER 360 DEGREES</td>\n",
       "      <td>1</td>\n",
       "      <td>4</td>\n",
       "      <td>6</td>\n",
       "      <td>9</td>\n",
       "      <td>12</td>\n",
       "      <td>15</td>\n",
       "      <td>19</td>\n",
       "      <td>21</td>\n",
       "      <td>25</td>\n",
       "      <td>28</td>\n",
       "      <td>30</td>\n",
       "      <td>CNN</td>\n",
       "    </tr>\n",
       "    <tr>\n",
       "      <th>3</th>\n",
       "      <td>3</td>\n",
       "      <td>CNN CNN LIVE EVENT/SPECIAL</td>\n",
       "      <td>1</td>\n",
       "      <td>4</td>\n",
       "      <td>6</td>\n",
       "      <td>9</td>\n",
       "      <td>12</td>\n",
       "      <td>15</td>\n",
       "      <td>18</td>\n",
       "      <td>21</td>\n",
       "      <td>25</td>\n",
       "      <td>28</td>\n",
       "      <td>30</td>\n",
       "      <td>CNN</td>\n",
       "    </tr>\n",
       "    <tr>\n",
       "      <th>4</th>\n",
       "      <td>4</td>\n",
       "      <td>CNN CNN NEWSROOM</td>\n",
       "      <td>1</td>\n",
       "      <td>4</td>\n",
       "      <td>6</td>\n",
       "      <td>9</td>\n",
       "      <td>12</td>\n",
       "      <td>15</td>\n",
       "      <td>19</td>\n",
       "      <td>21</td>\n",
       "      <td>25</td>\n",
       "      <td>28</td>\n",
       "      <td>30</td>\n",
       "      <td>CNN</td>\n",
       "    </tr>\n",
       "    <tr>\n",
       "      <th>5</th>\n",
       "      <td>5</td>\n",
       "      <td>CNN CNN RELIABLE SOURCES</td>\n",
       "      <td>2</td>\n",
       "      <td>3</td>\n",
       "      <td>7</td>\n",
       "      <td>10</td>\n",
       "      <td>13</td>\n",
       "      <td>16</td>\n",
       "      <td>18</td>\n",
       "      <td>22</td>\n",
       "      <td>24</td>\n",
       "      <td>27</td>\n",
       "      <td>31</td>\n",
       "      <td>CNN</td>\n",
       "    </tr>\n",
       "    <tr>\n",
       "      <th>7</th>\n",
       "      <td>7</td>\n",
       "      <td>CNN CNN Special Reports</td>\n",
       "      <td>2</td>\n",
       "      <td>3</td>\n",
       "      <td>8</td>\n",
       "      <td>11</td>\n",
       "      <td>13</td>\n",
       "      <td>16</td>\n",
       "      <td>18</td>\n",
       "      <td>22</td>\n",
       "      <td>24</td>\n",
       "      <td>27</td>\n",
       "      <td>31</td>\n",
       "      <td>CNN</td>\n",
       "    </tr>\n",
       "  </tbody>\n",
       "</table>\n",
       "</div>"
      ],
      "text/plain": [
       "   Unnamed: 0                          Program  Cluster_0  Cluster_1  \\\n",
       "0           0  CNN ANDERSON COOPER 360 DEGREES          1          4   \n",
       "3           3       CNN CNN LIVE EVENT/SPECIAL          1          4   \n",
       "4           4                 CNN CNN NEWSROOM          1          4   \n",
       "5           5         CNN CNN RELIABLE SOURCES          2          3   \n",
       "7           7          CNN CNN Special Reports          2          3   \n",
       "\n",
       "   Cluster_2  Cluster_3  Cluster_4  Cluster_5  Cluster_6  Cluster_7  \\\n",
       "0          6          9         12         15         19         21   \n",
       "3          6          9         12         15         18         21   \n",
       "4          6          9         12         15         19         21   \n",
       "5          7         10         13         16         18         22   \n",
       "7          8         11         13         16         18         22   \n",
       "\n",
       "   Cluster_8  Cluster_9  Cluster_10 Network  \n",
       "0         25         28          30     CNN  \n",
       "3         25         28          30     CNN  \n",
       "4         25         28          30     CNN  \n",
       "5         24         27          31     CNN  \n",
       "7         24         27          31     CNN  "
      ]
     },
     "execution_count": 61,
     "metadata": {},
     "output_type": "execute_result"
    }
   ],
   "source": [
    "df = pd.read_csv('clustersdf.csv')\n",
    "print(df.columns)\n",
    "df = df.drop('Cluster_11', axis=1)\n",
    "df['Network'] = df['Program'].apply(lambda x: x.split()[0])\n",
    "df = df.dropna()\n",
    "clusts = ['Cluster_0','Cluster_1','Cluster_2','Cluster_3','Cluster_4','Cluster_5','Cluster_6','Cluster_7','Cluster_8','Cluster_9','Cluster_10']\n",
    "for c in range(len(clusts)):\n",
    "    df[clusts[c]] = df[clusts[c]].apply(lambda x: int(x) + c * 3) \n",
    "df.head()"
   ]
  },
  {
   "cell_type": "code",
   "execution_count": 62,
   "metadata": {},
   "outputs": [
    {
     "data": {
      "text/html": [
       "<div>\n",
       "<style scoped>\n",
       "    .dataframe tbody tr th:only-of-type {\n",
       "        vertical-align: middle;\n",
       "    }\n",
       "\n",
       "    .dataframe tbody tr th {\n",
       "        vertical-align: top;\n",
       "    }\n",
       "\n",
       "    .dataframe thead th {\n",
       "        text-align: right;\n",
       "    }\n",
       "</style>\n",
       "<table border=\"1\" class=\"dataframe\">\n",
       "  <thead>\n",
       "    <tr style=\"text-align: right;\">\n",
       "      <th></th>\n",
       "      <th>source</th>\n",
       "      <th>target</th>\n",
       "      <th>type</th>\n",
       "      <th>value</th>\n",
       "    </tr>\n",
       "  </thead>\n",
       "  <tbody>\n",
       "    <tr>\n",
       "      <th>0</th>\n",
       "      <td>0</td>\n",
       "      <td>3</td>\n",
       "      <td>CNN</td>\n",
       "      <td>1</td>\n",
       "    </tr>\n",
       "    <tr>\n",
       "      <th>1</th>\n",
       "      <td>0</td>\n",
       "      <td>3</td>\n",
       "      <td>Fox</td>\n",
       "      <td>2</td>\n",
       "    </tr>\n",
       "    <tr>\n",
       "      <th>2</th>\n",
       "      <td>0</td>\n",
       "      <td>5</td>\n",
       "      <td>CNN</td>\n",
       "      <td>1</td>\n",
       "    </tr>\n",
       "    <tr>\n",
       "      <th>3</th>\n",
       "      <td>0</td>\n",
       "      <td>5</td>\n",
       "      <td>Fox</td>\n",
       "      <td>1</td>\n",
       "    </tr>\n",
       "    <tr>\n",
       "      <th>4</th>\n",
       "      <td>0</td>\n",
       "      <td>5</td>\n",
       "      <td>MSNBC</td>\n",
       "      <td>1</td>\n",
       "    </tr>\n",
       "  </tbody>\n",
       "</table>\n",
       "</div>"
      ],
      "text/plain": [
       "   source  target   type  value\n",
       "0       0       3    CNN      1\n",
       "1       0       3    Fox      2\n",
       "2       0       5    CNN      1\n",
       "3       0       5    Fox      1\n",
       "4       0       5  MSNBC      1"
      ]
     },
     "execution_count": 62,
     "metadata": {},
     "output_type": "execute_result"
    }
   ],
   "source": [
    "\n",
    "clustdf = pd.DataFrame(columns=['source','target','type','value'])\n",
    "for i in range(len(clusts) - 1):\n",
    "    cdf = df.groupby([clusts[i],clusts[i + 1], 'Network']).agg({\"Program\": \"count\"})\n",
    "    #print(cdf.head())\n",
    "    for i in cdf.index:\n",
    "        clustdf.loc[len(clustdf)] = [i[0],i[1],i[2],cdf.loc[i]['Program']]\n",
    "clustdf.head()\n"
   ]
  },
  {
   "cell_type": "code",
   "execution_count": 63,
   "metadata": {},
   "outputs": [
    {
     "name": "stdout",
     "output_type": "stream",
     "text": [
      "8\n",
      "Int64Index([6, 7], dtype='int64', name='Cluster_2')\n",
      "11\n",
      "Int64Index([9, 10], dtype='int64', name='Cluster_3')\n",
      "14\n",
      "Int64Index([12, 13], dtype='int64', name='Cluster_4')\n",
      "17\n",
      "Int64Index([15, 16], dtype='int64', name='Cluster_5')\n",
      "20\n",
      "Int64Index([18, 19], dtype='int64', name='Cluster_6')\n",
      "23\n",
      "Int64Index([21, 22], dtype='int64', name='Cluster_7')\n",
      "29\n",
      "Int64Index([27, 28], dtype='int64', name='Cluster_9')\n",
      "32\n",
      "Int64Index([30, 31], dtype='int64', name='Cluster_10')\n"
     ]
    },
    {
     "data": {
      "text/plain": [
       "['Fox: 3',\n",
       " 'Fox: 5',\n",
       " 'Fox: 8',\n",
       " 'Fox: 5',\n",
       " 'Fox: 5',\n",
       " 'Fox: 6',\n",
       " 'Fox: 9',\n",
       " 'Fox: 7',\n",
       " 'Fox: 0',\n",
       " 'Fox: 9',\n",
       " 'Fox: 7',\n",
       " 'Fox: 0',\n",
       " 'Fox: 8',\n",
       " 'Fox: 8',\n",
       " 'Fox: 0',\n",
       " 'Fox: 9',\n",
       " 'Fox: 7',\n",
       " 'Fox: 0',\n",
       " 'Fox: 8',\n",
       " 'Fox: 8',\n",
       " 'Fox: 0',\n",
       " 'Fox: 8',\n",
       " 'Fox: 8',\n",
       " 'Fox: 0',\n",
       " 'Fox: 5',\n",
       " 'Fox: 8',\n",
       " 'Fox: 3',\n",
       " 'Fox: 9',\n",
       " 'Fox: 7',\n",
       " 'Fox: 0',\n",
       " 'Fox: 9',\n",
       " 'Fox: 7',\n",
       " 'Fox: 0']"
      ]
     },
     "execution_count": 63,
     "metadata": {},
     "output_type": "execute_result"
    }
   ],
   "source": [
    "nodes = []\n",
    "for i in range(len(clusts)):\n",
    "    cdf = df[df[\"Network\"] == \"Fox\"]\n",
    "    cdf = cdf.groupby([clusts[i]]).agg({\"Program\": \"count\"})\n",
    "    #print(cdf.head())\n",
    "    for j in range(i * 3, i * 3 + 3):\n",
    "        try:\n",
    "            nodes.append(\"Fox: \" + str(cdf.loc[j]['Program']))\n",
    "        except:\n",
    "            print(j)\n",
    "            print(cdf.index)\n",
    "            nodes.append(\"Fox: 0\")\n",
    "nodes"
   ]
  },
  {
   "cell_type": "code",
   "execution_count": 64,
   "metadata": {},
   "outputs": [
    {
     "name": "stdout",
     "output_type": "stream",
     "text": [
      "['tan', 'red', 'tan', 'red', 'blue', 'tan', 'red', 'blue', 'blue', 'tan', 'red', 'tan', 'tan', 'red', 'blue', 'tan', 'red', 'tan', 'tan', 'red', 'blue', 'tan', 'red', 'blue', 'tan', 'red', 'blue', 'tan', 'red', 'blue', 'tan', 'red', 'blue', 'tan', 'tan', 'red', 'blue', 'tan', 'red', 'blue', 'tan', 'red', 'tan', 'tan', 'red', 'blue', 'red', 'blue', 'tan', 'red', 'tan', 'red', 'blue', 'tan', 'red', 'blue', 'tan', 'red', 'tan', 'blue', 'tan', 'red', 'tan', 'red', 'blue', 'tan', 'tan', 'blue', 'tan', 'red', 'blue', 'tan', 'red', 'red', 'tan', 'red', 'blue', 'tan', 'blue', 'red', 'tan', 'red', 'blue', 'red', 'tan', 'red', 'blue', 'tan', 'red', 'tan', 'red', 'blue']\n"
     ]
    },
    {
     "data": {
      "application/vnd.plotly.v1+json": {
       "config": {
        "plotlyServerURL": "https://plot.ly"
       },
       "data": [
        {
         "link": {
          "color": [
           "tan",
           "red",
           "tan",
           "red",
           "blue",
           "tan",
           "red",
           "blue",
           "blue",
           "tan",
           "red",
           "tan",
           "tan",
           "red",
           "blue",
           "tan",
           "red",
           "tan",
           "tan",
           "red",
           "blue",
           "tan",
           "red",
           "blue",
           "tan",
           "red",
           "blue",
           "tan",
           "red",
           "blue",
           "tan",
           "red",
           "blue",
           "tan",
           "tan",
           "red",
           "blue",
           "tan",
           "red",
           "blue",
           "tan",
           "red",
           "tan",
           "tan",
           "red",
           "blue",
           "red",
           "blue",
           "tan",
           "red",
           "tan",
           "red",
           "blue",
           "tan",
           "red",
           "blue",
           "tan",
           "red",
           "tan",
           "blue",
           "tan",
           "red",
           "tan",
           "red",
           "blue",
           "tan",
           "tan",
           "blue",
           "tan",
           "red",
           "blue",
           "tan",
           "red",
           "red",
           "tan",
           "red",
           "blue",
           "tan",
           "blue",
           "red",
           "tan",
           "red",
           "blue",
           "red",
           "tan",
           "red",
           "blue",
           "tan",
           "red",
           "tan",
           "red",
           "blue"
          ],
          "source": [
           0,
           0,
           0,
           0,
           0,
           1,
           1,
           1,
           1,
           2,
           2,
           2,
           2,
           2,
           2,
           3,
           3,
           3,
           4,
           4,
           4,
           5,
           5,
           5,
           5,
           5,
           5,
           6,
           6,
           6,
           7,
           7,
           8,
           8,
           9,
           9,
           9,
           9,
           9,
           9,
           10,
           10,
           11,
           12,
           12,
           12,
           13,
           13,
           13,
           13,
           15,
           15,
           15,
           15,
           15,
           15,
           16,
           16,
           18,
           18,
           18,
           18,
           19,
           19,
           19,
           19,
           21,
           21,
           21,
           21,
           21,
           22,
           22,
           22,
           24,
           24,
           24,
           24,
           24,
           25,
           25,
           25,
           25,
           26,
           27,
           27,
           27,
           27,
           27,
           28,
           28,
           28
          ],
          "target": [
           3,
           3,
           5,
           5,
           5,
           4,
           4,
           4,
           5,
           3,
           3,
           4,
           5,
           5,
           5,
           7,
           7,
           8,
           6,
           6,
           6,
           6,
           6,
           6,
           7,
           7,
           8,
           9,
           9,
           9,
           10,
           10,
           9,
           11,
           12,
           12,
           12,
           13,
           13,
           13,
           13,
           13,
           13,
           15,
           15,
           15,
           15,
           15,
           16,
           16,
           18,
           18,
           18,
           19,
           19,
           19,
           18,
           18,
           21,
           21,
           22,
           22,
           21,
           21,
           21,
           22,
           24,
           24,
           25,
           25,
           25,
           24,
           24,
           26,
           27,
           27,
           27,
           28,
           28,
           27,
           28,
           28,
           28,
           27,
           30,
           30,
           30,
           31,
           31,
           30,
           30,
           30
          ],
          "value": [
           1,
           2,
           1,
           1,
           1,
           10,
           5,
           5,
           1,
           2,
           3,
           1,
           2,
           5,
           1,
           2,
           5,
           1,
           11,
           5,
           5,
           2,
           4,
           2,
           1,
           2,
           1,
           13,
           9,
           7,
           3,
           7,
           1,
           1,
           12,
           8,
           7,
           1,
           1,
           1,
           3,
           7,
           1,
           12,
           8,
           7,
           1,
           1,
           5,
           7,
           2,
           1,
           1,
           10,
           8,
           7,
           5,
           7,
           2,
           1,
           5,
           8,
           9,
           8,
           7,
           1,
           3,
           3,
           8,
           8,
           5,
           6,
           5,
           3,
           6,
           5,
           2,
           3,
           1,
           1,
           8,
           7,
           5,
           3,
           2,
           2,
           2,
           4,
           7,
           11,
           7,
           6
          ]
         },
         "node": {
          "color": "black",
          "label": [
           "A1",
           "A2",
           "A3",
           "B1",
           "B2",
           "B3",
           "C1",
           "C2",
           "C3"
          ],
          "line": {
           "color": "black",
           "width": 0.5
          },
          "pad": 15,
          "thickness": 20
         },
         "type": "sankey"
        }
       ],
       "layout": {
        "font": {
         "size": 10
        },
        "template": {
         "data": {
          "bar": [
           {
            "error_x": {
             "color": "#2a3f5f"
            },
            "error_y": {
             "color": "#2a3f5f"
            },
            "marker": {
             "line": {
              "color": "#E5ECF6",
              "width": 0.5
             },
             "pattern": {
              "fillmode": "overlay",
              "size": 10,
              "solidity": 0.2
             }
            },
            "type": "bar"
           }
          ],
          "barpolar": [
           {
            "marker": {
             "line": {
              "color": "#E5ECF6",
              "width": 0.5
             },
             "pattern": {
              "fillmode": "overlay",
              "size": 10,
              "solidity": 0.2
             }
            },
            "type": "barpolar"
           }
          ],
          "carpet": [
           {
            "aaxis": {
             "endlinecolor": "#2a3f5f",
             "gridcolor": "white",
             "linecolor": "white",
             "minorgridcolor": "white",
             "startlinecolor": "#2a3f5f"
            },
            "baxis": {
             "endlinecolor": "#2a3f5f",
             "gridcolor": "white",
             "linecolor": "white",
             "minorgridcolor": "white",
             "startlinecolor": "#2a3f5f"
            },
            "type": "carpet"
           }
          ],
          "choropleth": [
           {
            "colorbar": {
             "outlinewidth": 0,
             "ticks": ""
            },
            "type": "choropleth"
           }
          ],
          "contour": [
           {
            "colorbar": {
             "outlinewidth": 0,
             "ticks": ""
            },
            "colorscale": [
             [
              0,
              "#0d0887"
             ],
             [
              0.1111111111111111,
              "#46039f"
             ],
             [
              0.2222222222222222,
              "#7201a8"
             ],
             [
              0.3333333333333333,
              "#9c179e"
             ],
             [
              0.4444444444444444,
              "#bd3786"
             ],
             [
              0.5555555555555556,
              "#d8576b"
             ],
             [
              0.6666666666666666,
              "#ed7953"
             ],
             [
              0.7777777777777778,
              "#fb9f3a"
             ],
             [
              0.8888888888888888,
              "#fdca26"
             ],
             [
              1,
              "#f0f921"
             ]
            ],
            "type": "contour"
           }
          ],
          "contourcarpet": [
           {
            "colorbar": {
             "outlinewidth": 0,
             "ticks": ""
            },
            "type": "contourcarpet"
           }
          ],
          "heatmap": [
           {
            "colorbar": {
             "outlinewidth": 0,
             "ticks": ""
            },
            "colorscale": [
             [
              0,
              "#0d0887"
             ],
             [
              0.1111111111111111,
              "#46039f"
             ],
             [
              0.2222222222222222,
              "#7201a8"
             ],
             [
              0.3333333333333333,
              "#9c179e"
             ],
             [
              0.4444444444444444,
              "#bd3786"
             ],
             [
              0.5555555555555556,
              "#d8576b"
             ],
             [
              0.6666666666666666,
              "#ed7953"
             ],
             [
              0.7777777777777778,
              "#fb9f3a"
             ],
             [
              0.8888888888888888,
              "#fdca26"
             ],
             [
              1,
              "#f0f921"
             ]
            ],
            "type": "heatmap"
           }
          ],
          "heatmapgl": [
           {
            "colorbar": {
             "outlinewidth": 0,
             "ticks": ""
            },
            "colorscale": [
             [
              0,
              "#0d0887"
             ],
             [
              0.1111111111111111,
              "#46039f"
             ],
             [
              0.2222222222222222,
              "#7201a8"
             ],
             [
              0.3333333333333333,
              "#9c179e"
             ],
             [
              0.4444444444444444,
              "#bd3786"
             ],
             [
              0.5555555555555556,
              "#d8576b"
             ],
             [
              0.6666666666666666,
              "#ed7953"
             ],
             [
              0.7777777777777778,
              "#fb9f3a"
             ],
             [
              0.8888888888888888,
              "#fdca26"
             ],
             [
              1,
              "#f0f921"
             ]
            ],
            "type": "heatmapgl"
           }
          ],
          "histogram": [
           {
            "marker": {
             "pattern": {
              "fillmode": "overlay",
              "size": 10,
              "solidity": 0.2
             }
            },
            "type": "histogram"
           }
          ],
          "histogram2d": [
           {
            "colorbar": {
             "outlinewidth": 0,
             "ticks": ""
            },
            "colorscale": [
             [
              0,
              "#0d0887"
             ],
             [
              0.1111111111111111,
              "#46039f"
             ],
             [
              0.2222222222222222,
              "#7201a8"
             ],
             [
              0.3333333333333333,
              "#9c179e"
             ],
             [
              0.4444444444444444,
              "#bd3786"
             ],
             [
              0.5555555555555556,
              "#d8576b"
             ],
             [
              0.6666666666666666,
              "#ed7953"
             ],
             [
              0.7777777777777778,
              "#fb9f3a"
             ],
             [
              0.8888888888888888,
              "#fdca26"
             ],
             [
              1,
              "#f0f921"
             ]
            ],
            "type": "histogram2d"
           }
          ],
          "histogram2dcontour": [
           {
            "colorbar": {
             "outlinewidth": 0,
             "ticks": ""
            },
            "colorscale": [
             [
              0,
              "#0d0887"
             ],
             [
              0.1111111111111111,
              "#46039f"
             ],
             [
              0.2222222222222222,
              "#7201a8"
             ],
             [
              0.3333333333333333,
              "#9c179e"
             ],
             [
              0.4444444444444444,
              "#bd3786"
             ],
             [
              0.5555555555555556,
              "#d8576b"
             ],
             [
              0.6666666666666666,
              "#ed7953"
             ],
             [
              0.7777777777777778,
              "#fb9f3a"
             ],
             [
              0.8888888888888888,
              "#fdca26"
             ],
             [
              1,
              "#f0f921"
             ]
            ],
            "type": "histogram2dcontour"
           }
          ],
          "mesh3d": [
           {
            "colorbar": {
             "outlinewidth": 0,
             "ticks": ""
            },
            "type": "mesh3d"
           }
          ],
          "parcoords": [
           {
            "line": {
             "colorbar": {
              "outlinewidth": 0,
              "ticks": ""
             }
            },
            "type": "parcoords"
           }
          ],
          "pie": [
           {
            "automargin": true,
            "type": "pie"
           }
          ],
          "scatter": [
           {
            "fillpattern": {
             "fillmode": "overlay",
             "size": 10,
             "solidity": 0.2
            },
            "type": "scatter"
           }
          ],
          "scatter3d": [
           {
            "line": {
             "colorbar": {
              "outlinewidth": 0,
              "ticks": ""
             }
            },
            "marker": {
             "colorbar": {
              "outlinewidth": 0,
              "ticks": ""
             }
            },
            "type": "scatter3d"
           }
          ],
          "scattercarpet": [
           {
            "marker": {
             "colorbar": {
              "outlinewidth": 0,
              "ticks": ""
             }
            },
            "type": "scattercarpet"
           }
          ],
          "scattergeo": [
           {
            "marker": {
             "colorbar": {
              "outlinewidth": 0,
              "ticks": ""
             }
            },
            "type": "scattergeo"
           }
          ],
          "scattergl": [
           {
            "marker": {
             "colorbar": {
              "outlinewidth": 0,
              "ticks": ""
             }
            },
            "type": "scattergl"
           }
          ],
          "scattermapbox": [
           {
            "marker": {
             "colorbar": {
              "outlinewidth": 0,
              "ticks": ""
             }
            },
            "type": "scattermapbox"
           }
          ],
          "scatterpolar": [
           {
            "marker": {
             "colorbar": {
              "outlinewidth": 0,
              "ticks": ""
             }
            },
            "type": "scatterpolar"
           }
          ],
          "scatterpolargl": [
           {
            "marker": {
             "colorbar": {
              "outlinewidth": 0,
              "ticks": ""
             }
            },
            "type": "scatterpolargl"
           }
          ],
          "scatterternary": [
           {
            "marker": {
             "colorbar": {
              "outlinewidth": 0,
              "ticks": ""
             }
            },
            "type": "scatterternary"
           }
          ],
          "surface": [
           {
            "colorbar": {
             "outlinewidth": 0,
             "ticks": ""
            },
            "colorscale": [
             [
              0,
              "#0d0887"
             ],
             [
              0.1111111111111111,
              "#46039f"
             ],
             [
              0.2222222222222222,
              "#7201a8"
             ],
             [
              0.3333333333333333,
              "#9c179e"
             ],
             [
              0.4444444444444444,
              "#bd3786"
             ],
             [
              0.5555555555555556,
              "#d8576b"
             ],
             [
              0.6666666666666666,
              "#ed7953"
             ],
             [
              0.7777777777777778,
              "#fb9f3a"
             ],
             [
              0.8888888888888888,
              "#fdca26"
             ],
             [
              1,
              "#f0f921"
             ]
            ],
            "type": "surface"
           }
          ],
          "table": [
           {
            "cells": {
             "fill": {
              "color": "#EBF0F8"
             },
             "line": {
              "color": "white"
             }
            },
            "header": {
             "fill": {
              "color": "#C8D4E3"
             },
             "line": {
              "color": "white"
             }
            },
            "type": "table"
           }
          ]
         },
         "layout": {
          "annotationdefaults": {
           "arrowcolor": "#2a3f5f",
           "arrowhead": 0,
           "arrowwidth": 1
          },
          "autotypenumbers": "strict",
          "coloraxis": {
           "colorbar": {
            "outlinewidth": 0,
            "ticks": ""
           }
          },
          "colorscale": {
           "diverging": [
            [
             0,
             "#8e0152"
            ],
            [
             0.1,
             "#c51b7d"
            ],
            [
             0.2,
             "#de77ae"
            ],
            [
             0.3,
             "#f1b6da"
            ],
            [
             0.4,
             "#fde0ef"
            ],
            [
             0.5,
             "#f7f7f7"
            ],
            [
             0.6,
             "#e6f5d0"
            ],
            [
             0.7,
             "#b8e186"
            ],
            [
             0.8,
             "#7fbc41"
            ],
            [
             0.9,
             "#4d9221"
            ],
            [
             1,
             "#276419"
            ]
           ],
           "sequential": [
            [
             0,
             "#0d0887"
            ],
            [
             0.1111111111111111,
             "#46039f"
            ],
            [
             0.2222222222222222,
             "#7201a8"
            ],
            [
             0.3333333333333333,
             "#9c179e"
            ],
            [
             0.4444444444444444,
             "#bd3786"
            ],
            [
             0.5555555555555556,
             "#d8576b"
            ],
            [
             0.6666666666666666,
             "#ed7953"
            ],
            [
             0.7777777777777778,
             "#fb9f3a"
            ],
            [
             0.8888888888888888,
             "#fdca26"
            ],
            [
             1,
             "#f0f921"
            ]
           ],
           "sequentialminus": [
            [
             0,
             "#0d0887"
            ],
            [
             0.1111111111111111,
             "#46039f"
            ],
            [
             0.2222222222222222,
             "#7201a8"
            ],
            [
             0.3333333333333333,
             "#9c179e"
            ],
            [
             0.4444444444444444,
             "#bd3786"
            ],
            [
             0.5555555555555556,
             "#d8576b"
            ],
            [
             0.6666666666666666,
             "#ed7953"
            ],
            [
             0.7777777777777778,
             "#fb9f3a"
            ],
            [
             0.8888888888888888,
             "#fdca26"
            ],
            [
             1,
             "#f0f921"
            ]
           ]
          },
          "colorway": [
           "#636efa",
           "#EF553B",
           "#00cc96",
           "#ab63fa",
           "#FFA15A",
           "#19d3f3",
           "#FF6692",
           "#B6E880",
           "#FF97FF",
           "#FECB52"
          ],
          "font": {
           "color": "#2a3f5f"
          },
          "geo": {
           "bgcolor": "white",
           "lakecolor": "white",
           "landcolor": "#E5ECF6",
           "showlakes": true,
           "showland": true,
           "subunitcolor": "white"
          },
          "hoverlabel": {
           "align": "left"
          },
          "hovermode": "closest",
          "mapbox": {
           "style": "light"
          },
          "paper_bgcolor": "white",
          "plot_bgcolor": "#E5ECF6",
          "polar": {
           "angularaxis": {
            "gridcolor": "white",
            "linecolor": "white",
            "ticks": ""
           },
           "bgcolor": "#E5ECF6",
           "radialaxis": {
            "gridcolor": "white",
            "linecolor": "white",
            "ticks": ""
           }
          },
          "scene": {
           "xaxis": {
            "backgroundcolor": "#E5ECF6",
            "gridcolor": "white",
            "gridwidth": 2,
            "linecolor": "white",
            "showbackground": true,
            "ticks": "",
            "zerolinecolor": "white"
           },
           "yaxis": {
            "backgroundcolor": "#E5ECF6",
            "gridcolor": "white",
            "gridwidth": 2,
            "linecolor": "white",
            "showbackground": true,
            "ticks": "",
            "zerolinecolor": "white"
           },
           "zaxis": {
            "backgroundcolor": "#E5ECF6",
            "gridcolor": "white",
            "gridwidth": 2,
            "linecolor": "white",
            "showbackground": true,
            "ticks": "",
            "zerolinecolor": "white"
           }
          },
          "shapedefaults": {
           "line": {
            "color": "#2a3f5f"
           }
          },
          "ternary": {
           "aaxis": {
            "gridcolor": "white",
            "linecolor": "white",
            "ticks": ""
           },
           "baxis": {
            "gridcolor": "white",
            "linecolor": "white",
            "ticks": ""
           },
           "bgcolor": "#E5ECF6",
           "caxis": {
            "gridcolor": "white",
            "linecolor": "white",
            "ticks": ""
           }
          },
          "title": {
           "x": 0.05
          },
          "xaxis": {
           "automargin": true,
           "gridcolor": "white",
           "linecolor": "white",
           "ticks": "",
           "title": {
            "standoff": 15
           },
           "zerolinecolor": "white",
           "zerolinewidth": 2
          },
          "yaxis": {
           "automargin": true,
           "gridcolor": "white",
           "linecolor": "white",
           "ticks": "",
           "title": {
            "standoff": 15
           },
           "zerolinecolor": "white",
           "zerolinewidth": 2
          }
         }
        },
        "title": {
         "text": "Basic Sankey Diagram"
        }
       }
      }
     },
     "metadata": {},
     "output_type": "display_data"
    }
   ],
   "source": [
    "\n",
    "color_link = list(clustdf['type'])\n",
    "color_link = list(map(lambda x: x.replace('CNN', 'tan').replace('MSNBC', 'blue').replace('Fox', 'red'), color_link))\n",
    "print(color_link)\n",
    "\n",
    "fig = go.Figure(data=[go.Sankey(\n",
    "    node = dict(\n",
    "      pad = 15,\n",
    "      thickness = 20,\n",
    "      line = dict(color = \"black\", width = 0.5),\n",
    "      label = [\"A1\", \"A2\", \"A3\",\"B1\", \"B2\", \"B3\",\"C1\", \"C2\",\"C3\"],\n",
    "      color = \"black\"\n",
    "    ),\n",
    "    link = dict(\n",
    "      source = clustdf['source'],#[0, 1, 0, 2, 3, 3], # indices correspond to labels, eg A1, A2, A1, B1, ...\n",
    "      target = clustdf['target'],#[2, 3, 3, 4, 4, 5],\n",
    "      value = clustdf['value'], #[8, 4, 2, 8, 4, 2]\n",
    "      color = color_link\n",
    "  ))])\n",
    "\n",
    "fig.update_layout(title_text=\"Basic Sankey Diagram\", font_size=10)\n",
    "fig.show()"
   ]
  }
 ],
 "metadata": {
  "kernelspec": {
   "display_name": "Python 3",
   "language": "python",
   "name": "python3"
  },
  "language_info": {
   "codemirror_mode": {
    "name": "ipython",
    "version": 3
   },
   "file_extension": ".py",
   "mimetype": "text/x-python",
   "name": "python",
   "nbconvert_exporter": "python",
   "pygments_lexer": "ipython3",
   "version": "3.10.1"
  },
  "orig_nbformat": 4,
  "vscode": {
   "interpreter": {
    "hash": "26de051ba29f2982a8de78e945f0abaf191376122a1563185a90213a26c5da77"
   }
  }
 },
 "nbformat": 4,
 "nbformat_minor": 2
}
